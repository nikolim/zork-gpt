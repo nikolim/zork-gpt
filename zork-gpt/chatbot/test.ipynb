{
 "cells": [
  {
   "cell_type": "code",
   "execution_count": 27,
   "metadata": {},
   "outputs": [
    {
     "data": {
      "text/plain": [
       "True"
      ]
     },
     "execution_count": 27,
     "metadata": {},
     "output_type": "execute_result"
    }
   ],
   "source": [
    "import os\n",
    "from dotenv import load_dotenv\n",
    "from langchainGPTChatbot import LangChainGPTBot\n",
    "\n",
    "load_dotenv()"
   ]
  },
  {
   "cell_type": "code",
   "execution_count": 28,
   "metadata": {},
   "outputs": [],
   "source": [
    "prompt_dir = \"prompt_templates\""
   ]
  },
  {
   "cell_type": "code",
   "execution_count": 29,
   "metadata": {},
   "outputs": [
    {
     "name": "stdout",
     "output_type": "stream",
     "text": [
      "Init prompt: \n",
      "The following is a conversation between a human and an AI in the storytelling game \"Zork\". One after another the human and the AI extend the story. The AI is extending the setting created by the human. You are playing the AI.\n",
      "\n",
      "Here are some further instructions: \n",
      "Write short and concise answers that extend the story. \n",
      "If necessary, ask a question. Do not express any further feelings or interest in the user, just guide the user through the story. \n",
      "Additionally, the user has an inventory as a list of size 3: [item0, item1, item2], count: 3. \n",
      "Note that there must not be more than 3 items in the inventory, so if I want to pick up another item, I first have to drop one item and you have to ask which one.\n",
      "Try to create scenes in the story where the user can make use of the items in a creative way. You decide whether the user’s approach of using an item is successful or not. If the user sees something, you have to incorporate it in the story.\n",
      "\n",
      "Be creative and if there is no clear continuation, make up a new incident and challenge the human user!\n",
      "\n",
      "An empty inventory is formatted as [].\n",
      "\n",
      "Here's an example dialogue start:\n",
      "\n",
      "AI: You are in a forest full of trees. What do you do? \n",
      "# Inventory: [flashlight, rope]\n",
      "# Room: Forest\n",
      "Human: Look around. \n",
      "AI: There are human footsteps in the mud. You find a gun next to them. \n",
      "# Inventory: [flashlight, rope]\n",
      "# Room: Forest\n",
      "Human: I inspect them and pick up the gun. \n",
      "AI: It seem's to be human footsteps. There's a small cabin in the forest.\n",
      "# Inventory: [flashlight, rope, gun]\n",
      "# Room: Forest\n",
      "Human: Enter the cabin\n",
      "AI: You enter the cabin and find a dead person on the floor. \n",
      "# [flashlight, rope, gun]\n",
      "# Room: Forest Cabin \n",
      "...\n",
      "\n",
      "Inventory prompt: \n",
      "We are playing the storytelling game \"Zork\" and want to update the inventory. The user may have at most 3 items. \n",
      "Either return the list, or a text that explains the user has to drop an item first. \n",
      "\n",
      "Here are two examples:\n",
      "\n",
      "Example 1:\n",
      "AI: You have to decide which item to drop. Inventory: [flashlight, rope, pocketknife]\n",
      "Human: I drop the rope and pick up the gun. \n",
      "AI: [flashlight, gun, pocketknife]\n",
      "\n",
      "Example 2:\n",
      "AI: You find a gun. Inventory: [flashlight, rope, pocketknife]\n",
      "Human: I pick up the gun. \n",
      "AI: You can only carry 3 items. Pick one to drop. Inventory: [flashlight, rope, pocketknife] \n",
      "\n",
      "Now your task:\n",
      "AI: {ai_message} Inventory: {inventory}\n",
      "Human: {human_message}\n",
      "AI:\n",
      "\n",
      "Room prompt: \n",
      "We are playing the \"Zork\" storytelling game. We want to update the location of the user. \n",
      "I provide you the user message and the AI message, and you update the room if necessary.\n",
      "\n",
      "Example 1: \n",
      "Current room: Old House Entrance \n",
      "AI: There's a shady door to the left of you leading to the kitchen.\n",
      "Human: Enter the room. \n",
      "AI: Shady Kitchen of Old House\n",
      "\n",
      "Current room: Old House Entrance \n",
      "AI: You are in a room with a small whole in the back which you could pass through.\n",
      "Human: Pass through the whole. \n",
      "AI: Small Whole in Old House\n",
      "\n",
      "Know your task:\n",
      "Current room: {current_room}\n",
      "AI: {ai_message}\n",
      "Human: {human_message}\n",
      "AI:\n",
      "\n",
      "Room init prompt: \n",
      "We are playing the \"Zork\" storytelling game. We want to determine the location of the user.\n",
      "\n",
      "Example: \n",
      "Input: You are in a dark house in the middle of the forest.\n",
      "AI: Dark Forest House\n",
      "\n",
      "Input: {ai_message}\n",
      "AI:\n",
      "\n"
     ]
    }
   ],
   "source": [
    "chatbot = LangChainGPTBot(prompt_dir=\"prompt_templates\")"
   ]
  },
  {
   "cell_type": "code",
   "execution_count": 30,
   "metadata": {},
   "outputs": [
    {
     "name": "stdout",
     "output_type": "stream",
     "text": [
      "\n",
      "\n",
      "\u001b[1m> Entering new ConversationChain chain...\u001b[0m\n",
      "Prompt after formatting:\n",
      "\u001b[32;1m\u001b[1;3mSystem: The following is a conversation between a human and an AI in the storytelling game \"Zork\". One after another the human and the AI extend the story. The AI is extending the setting created by the human. You are playing the AI.\n",
      "\n",
      "Here are some further instructions: \n",
      "Write short and concise answers that extend the story. \n",
      "If necessary, ask a question. Do not express any further feelings or interest in the user, just guide the user through the story. \n",
      "Additionally, the user has an inventory as a list of size 3: [item0, item1, item2], count: 3. \n",
      "Note that there must not be more than 3 items in the inventory, so if I want to pick up another item, I first have to drop one item and you have to ask which one.\n",
      "Try to create scenes in the story where the user can make use of the items in a creative way. You decide whether the user’s approach of using an item is successful or not. If the user sees something, you have to incorporate it in the story.\n",
      "\n",
      "Be creative and if there is no clear continuation, make up a new incident and challenge the human user!\n",
      "\n",
      "An empty inventory is formatted as [].\n",
      "\n",
      "Here's an example dialogue start:\n",
      "\n",
      "AI: You are in a forest full of trees. What do you do? \n",
      "# Inventory: [flashlight, rope]\n",
      "# Room: Forest\n",
      "Human: Look around. \n",
      "AI: There are human footsteps in the mud. You find a gun next to them. \n",
      "# Inventory: [flashlight, rope]\n",
      "# Room: Forest\n",
      "Human: I inspect them and pick up the gun. \n",
      "AI: It seem's to be human footsteps. There's a small cabin in the forest.\n",
      "# Inventory: [flashlight, rope, gun]\n",
      "# Room: Forest\n",
      "Human: Enter the cabin\n",
      "AI: You enter the cabin and find a dead person on the floor. \n",
      "# [flashlight, rope, gun]\n",
      "# Room: Forest Cabin \n",
      "...\n",
      "\n",
      "Human: Let's start the game!\u001b[0m\n",
      "\n",
      "\u001b[1m> Finished chain.\u001b[0m\n",
      "chatbot answer: AI: You find yourself standing at the entrance of a dark cave. The entrance is guarded by a large boulder. What do you do?\n",
      "# Inventory: [] \n",
      "# Room: Cave Entrance\n",
      "User answer: You find yourself standing at the entrance of a dark cave. The entrance is guarded by a large boulder. What do you do?\n",
      "\n",
      "Inventory: []\n",
      "Room: Cave Entrance\n"
     ]
    }
   ],
   "source": [
    "answer_dict = chatbot.get_answer()"
   ]
  },
  {
   "cell_type": "code",
   "execution_count": 31,
   "metadata": {},
   "outputs": [
    {
     "data": {
      "text/plain": [
       "{'message': 'You find yourself standing at the entrance of a dark cave. The entrance is guarded by a large boulder. What do you do?\\n',\n",
       " 'inventory': '[]',\n",
       " 'room': 'Cave Entrance'}"
      ]
     },
     "execution_count": 31,
     "metadata": {},
     "output_type": "execute_result"
    }
   ],
   "source": [
    "answer_dict"
   ]
  },
  {
   "cell_type": "code",
   "execution_count": 32,
   "metadata": {},
   "outputs": [
    {
     "name": "stdout",
     "output_type": "stream",
     "text": [
      "\n",
      "\n",
      "\u001b[1m> Entering new ConversationChain chain...\u001b[0m\n",
      "Prompt after formatting:\n",
      "\u001b[32;1m\u001b[1;3mSystem: The following is a conversation between a human and an AI in the storytelling game \"Zork\". One after another the human and the AI extend the story. The AI is extending the setting created by the human. You are playing the AI.\n",
      "\n",
      "Here are some further instructions: \n",
      "Write short and concise answers that extend the story. \n",
      "If necessary, ask a question. Do not express any further feelings or interest in the user, just guide the user through the story. \n",
      "Additionally, the user has an inventory as a list of size 3: [item0, item1, item2], count: 3. \n",
      "Note that there must not be more than 3 items in the inventory, so if I want to pick up another item, I first have to drop one item and you have to ask which one.\n",
      "Try to create scenes in the story where the user can make use of the items in a creative way. You decide whether the user’s approach of using an item is successful or not. If the user sees something, you have to incorporate it in the story.\n",
      "\n",
      "Be creative and if there is no clear continuation, make up a new incident and challenge the human user!\n",
      "\n",
      "An empty inventory is formatted as [].\n",
      "\n",
      "Here's an example dialogue start:\n",
      "\n",
      "AI: You are in a forest full of trees. What do you do? \n",
      "# Inventory: [flashlight, rope]\n",
      "# Room: Forest\n",
      "Human: Look around. \n",
      "AI: There are human footsteps in the mud. You find a gun next to them. \n",
      "# Inventory: [flashlight, rope]\n",
      "# Room: Forest\n",
      "Human: I inspect them and pick up the gun. \n",
      "AI: It seem's to be human footsteps. There's a small cabin in the forest.\n",
      "# Inventory: [flashlight, rope, gun]\n",
      "# Room: Forest\n",
      "Human: Enter the cabin\n",
      "AI: You enter the cabin and find a dead person on the floor. \n",
      "# [flashlight, rope, gun]\n",
      "# Room: Forest Cabin \n",
      "...\n",
      "\n",
      "Human: Let's start the game!\n",
      "AI: AI: You find yourself standing at the entrance of a dark cave. The entrance is guarded by a large boulder. What do you do?\n",
      "# Inventory: [] \n",
      "# Room: Cave Entrance\n",
      "Human: Enter the cave.\u001b[0m\n",
      "\n",
      "\u001b[1m> Finished chain.\u001b[0m\n",
      "chatbot answer: AI: You try to push the boulder, but it doesn't budge. You notice a lever next to the boulder. Do you want to pull the lever?\n",
      "# Inventory: [] \n",
      "# Room: Cave Entrance\n",
      "User answer: You try to push the boulder, but it doesn't budge. You notice a lever next to the boulder. Do you want to pull the lever?\n",
      "\n",
      "Inventory: []\n",
      "Room: Cave Entrance\n"
     ]
    }
   ],
   "source": [
    "answer = chatbot.get_answer(\"Enter the cave.\")"
   ]
  },
  {
   "cell_type": "code",
   "execution_count": 33,
   "metadata": {},
   "outputs": [
    {
     "data": {
      "text/plain": [
       "{'message': \"You try to push the boulder, but it doesn't budge. You notice a lever next to the boulder. Do you want to pull the lever?\\n\",\n",
       " 'inventory': '[]',\n",
       " 'room': 'Cave Entrance'}"
      ]
     },
     "execution_count": 33,
     "metadata": {},
     "output_type": "execute_result"
    }
   ],
   "source": [
    "answer"
   ]
  },
  {
   "cell_type": "code",
   "execution_count": 34,
   "metadata": {},
   "outputs": [
    {
     "name": "stdout",
     "output_type": "stream",
     "text": [
      "\n",
      "\n",
      "\u001b[1m> Entering new ConversationChain chain...\u001b[0m\n",
      "Prompt after formatting:\n",
      "\u001b[32;1m\u001b[1;3mSystem: The following is a conversation between a human and an AI in the storytelling game \"Zork\". One after another the human and the AI extend the story. The AI is extending the setting created by the human. You are playing the AI.\n",
      "\n",
      "Here are some further instructions: \n",
      "Write short and concise answers that extend the story. \n",
      "If necessary, ask a question. Do not express any further feelings or interest in the user, just guide the user through the story. \n",
      "Additionally, the user has an inventory as a list of size 3: [item0, item1, item2], count: 3. \n",
      "Note that there must not be more than 3 items in the inventory, so if I want to pick up another item, I first have to drop one item and you have to ask which one.\n",
      "Try to create scenes in the story where the user can make use of the items in a creative way. You decide whether the user’s approach of using an item is successful or not. If the user sees something, you have to incorporate it in the story.\n",
      "\n",
      "Be creative and if there is no clear continuation, make up a new incident and challenge the human user!\n",
      "\n",
      "An empty inventory is formatted as [].\n",
      "\n",
      "Here's an example dialogue start:\n",
      "\n",
      "AI: You are in a forest full of trees. What do you do? \n",
      "# Inventory: [flashlight, rope]\n",
      "# Room: Forest\n",
      "Human: Look around. \n",
      "AI: There are human footsteps in the mud. You find a gun next to them. \n",
      "# Inventory: [flashlight, rope]\n",
      "# Room: Forest\n",
      "Human: I inspect them and pick up the gun. \n",
      "AI: It seem's to be human footsteps. There's a small cabin in the forest.\n",
      "# Inventory: [flashlight, rope, gun]\n",
      "# Room: Forest\n",
      "Human: Enter the cabin\n",
      "AI: You enter the cabin and find a dead person on the floor. \n",
      "# [flashlight, rope, gun]\n",
      "# Room: Forest Cabin \n",
      "...\n",
      "\n",
      "Human: Let's start the game!\n",
      "AI: AI: You find yourself standing at the entrance of a dark cave. The entrance is guarded by a large boulder. What do you do?\n",
      "# Inventory: [] \n",
      "# Room: Cave Entrance\n",
      "Human: Enter the cave.\n",
      "AI: AI: You try to push the boulder, but it doesn't budge. You notice a lever next to the boulder. Do you want to pull the lever?\n",
      "# Inventory: [] \n",
      "# Room: Cave Entrance\n",
      "Human: Yes\u001b[0m\n",
      "\n",
      "\u001b[1m> Finished chain.\u001b[0m\n",
      "chatbot answer: AI: You pull the lever and the boulder slowly moves to the side, revealing the entrance to the cave. You enter the cave and find yourself in a dimly lit room. You see a torch on the wall and a chest in the corner. What do you do?\n",
      "# Inventory: [] \n",
      "# Room: Cave Room\n",
      "User answer: You pull the lever and the boulder slowly moves to the side, revealing the entrance to the cave. You enter the cave and find yourself in a dimly lit room. You see a torch on the wall and a chest in the corner. What do you do?\n",
      "\n",
      "Inventory: []\n",
      "Room: Cave Room\n"
     ]
    }
   ],
   "source": [
    "answer = chatbot.get_answer(\"Yes\")"
   ]
  },
  {
   "cell_type": "code",
   "execution_count": 35,
   "metadata": {},
   "outputs": [
    {
     "data": {
      "text/plain": [
       "{'message': 'You pull the lever and the boulder slowly moves to the side, revealing the entrance to the cave. You enter the cave and find yourself in a dimly lit room. You see a torch on the wall and a chest in the corner. What do you do?\\n',\n",
       " 'inventory': '[]',\n",
       " 'room': 'Cave Room'}"
      ]
     },
     "execution_count": 35,
     "metadata": {},
     "output_type": "execute_result"
    }
   ],
   "source": [
    "answer"
   ]
  },
  {
   "cell_type": "code",
   "execution_count": 36,
   "metadata": {},
   "outputs": [
    {
     "name": "stdout",
     "output_type": "stream",
     "text": [
      "\n",
      "\n",
      "\u001b[1m> Entering new ConversationChain chain...\u001b[0m\n",
      "Prompt after formatting:\n",
      "\u001b[32;1m\u001b[1;3mSystem: The following is a conversation between a human and an AI in the storytelling game \"Zork\". One after another the human and the AI extend the story. The AI is extending the setting created by the human. You are playing the AI.\n",
      "\n",
      "Here are some further instructions: \n",
      "Write short and concise answers that extend the story. \n",
      "If necessary, ask a question. Do not express any further feelings or interest in the user, just guide the user through the story. \n",
      "Additionally, the user has an inventory as a list of size 3: [item0, item1, item2], count: 3. \n",
      "Note that there must not be more than 3 items in the inventory, so if I want to pick up another item, I first have to drop one item and you have to ask which one.\n",
      "Try to create scenes in the story where the user can make use of the items in a creative way. You decide whether the user’s approach of using an item is successful or not. If the user sees something, you have to incorporate it in the story.\n",
      "\n",
      "Be creative and if there is no clear continuation, make up a new incident and challenge the human user!\n",
      "\n",
      "An empty inventory is formatted as [].\n",
      "\n",
      "Here's an example dialogue start:\n",
      "\n",
      "AI: You are in a forest full of trees. What do you do? \n",
      "# Inventory: [flashlight, rope]\n",
      "# Room: Forest\n",
      "Human: Look around. \n",
      "AI: There are human footsteps in the mud. You find a gun next to them. \n",
      "# Inventory: [flashlight, rope]\n",
      "# Room: Forest\n",
      "Human: I inspect them and pick up the gun. \n",
      "AI: It seem's to be human footsteps. There's a small cabin in the forest.\n",
      "# Inventory: [flashlight, rope, gun]\n",
      "# Room: Forest\n",
      "Human: Enter the cabin\n",
      "AI: You enter the cabin and find a dead person on the floor. \n",
      "# [flashlight, rope, gun]\n",
      "# Room: Forest Cabin \n",
      "...\n",
      "\n",
      "Human: Let's start the game!\n",
      "AI: AI: You find yourself standing at the entrance of a dark cave. The entrance is guarded by a large boulder. What do you do?\n",
      "# Inventory: [] \n",
      "# Room: Cave Entrance\n",
      "Human: Enter the cave.\n",
      "AI: AI: You try to push the boulder, but it doesn't budge. You notice a lever next to the boulder. Do you want to pull the lever?\n",
      "# Inventory: [] \n",
      "# Room: Cave Entrance\n",
      "Human: Yes\n",
      "AI: AI: You pull the lever and the boulder slowly moves to the side, revealing the entrance to the cave. You enter the cave and find yourself in a dimly lit room. You see a torch on the wall and a chest in the corner. What do you do?\n",
      "# Inventory: [] \n",
      "# Room: Cave Room\n",
      "Human: Open the chest\u001b[0m\n",
      "\n",
      "\u001b[1m> Finished chain.\u001b[0m\n",
      "chatbot answer: AI: You approach the chest and try to open it, but it's locked. You notice a keyhole on the front of the chest. What do you do?\n",
      "# Inventory: [] \n",
      "# Room: Cave Room\n",
      "User answer: You approach the chest and try to open it, but it's locked. You notice a keyhole on the front of the chest. What do you do?\n",
      "\n",
      "Inventory: []\n",
      "Room: Cave Room\n"
     ]
    }
   ],
   "source": [
    "answer = chatbot.get_answer(\"Open the chest\")"
   ]
  },
  {
   "cell_type": "code",
   "execution_count": 37,
   "metadata": {},
   "outputs": [
    {
     "data": {
      "text/plain": [
       "{'message': \"You approach the chest and try to open it, but it's locked. You notice a keyhole on the front of the chest. What do you do?\\n\",\n",
       " 'inventory': '[]',\n",
       " 'room': 'Cave Room'}"
      ]
     },
     "execution_count": 37,
     "metadata": {},
     "output_type": "execute_result"
    }
   ],
   "source": [
    "answer"
   ]
  },
  {
   "cell_type": "code",
   "execution_count": 26,
   "metadata": {},
   "outputs": [
    {
     "name": "stdout",
     "output_type": "stream",
     "text": [
      "AI: This is a sample text with an AI: prefix.\n"
     ]
    }
   ],
   "source": [
    "import re\n",
    "\n",
    "\n",
    "def ignore_ai_prefix(text):\n",
    "    ai_prefix_pattern = r\"^(AI:)\\s*\"\n",
    "\n",
    "    return re.sub(ai_prefix_pattern, \"\", text, flags=re.IGNORECASE)\n",
    "\n",
    "\n",
    "# Example usage\n",
    "text_with_prefix = \"AI: AI: This is a sample text with an AI: prefix.\"\n",
    "text_without_prefix = ignore_ai_prefix(text_with_prefix)\n",
    "print(text_without_prefix)  # Output: 'This is a sample text with an AI: prefix.'"
   ]
  },
  {
   "cell_type": "code",
   "execution_count": 84,
   "metadata": {},
   "outputs": [
    {
     "name": "stdout",
     "output_type": "stream",
     "text": [
      "We are playing the \"Zork\" storytelling game. We want to update the location of the user. \n",
      "I provide you the user message and the AI message, and you update the room if necessary.\n",
      "\n",
      "Example: \n",
      "Current room: Old House Entrance \n",
      "AI: There's a shady door to the left of you leading to the kitchen.\n",
      "Human: Enter the room. \n",
      "AI: Shady Kitchen of Old House\n",
      "\n",
      "Know your task:\n",
      "Current room: {current_room}\n",
      "AI: {ai_message}\n",
      "Human: {human_message}\n",
      "AI:\n",
      "\n"
     ]
    }
   ],
   "source": [
    "from langchain.prompts import PromptTemplate\n",
    "from langchain.chains import LLMChain\n",
    "from langchain.llms import OpenAI\n",
    "\n",
    "with open(os.path.join(prompt_dir, \"room.txt\"), \"r\") as f:\n",
    "    room_prompt = f.read()\n",
    "\n",
    "print(room_prompt)\n",
    "\n",
    "room_prompt = PromptTemplate(\n",
    "    input_variables=[\"current_room\", \"ai_message\", \"human_message\"],\n",
    "    template=room_prompt,\n",
    ")\n",
    "\n",
    "llm = OpenAI(\n",
    "    model_name=\"text-davinci-003\",\n",
    "    temperature=0.9,\n",
    ")\n",
    "\n",
    "llm_chain = LLMChain(llm=llm, prompt=room_prompt)"
   ]
  },
  {
   "cell_type": "code",
   "execution_count": 88,
   "metadata": {},
   "outputs": [
    {
     "data": {
      "text/plain": [
       "'You enter the Old House Entrance.'"
      ]
     },
     "execution_count": 88,
     "metadata": {},
     "output_type": "execute_result"
    }
   ],
   "source": [
    "llm_chain.run(\n",
    "    {\n",
    "        \"current_room\": \"in front of house\",\n",
    "        \"ai_message\": \"you are in front of a house\",\n",
    "        \"human_message\": \"enter the house\",\n",
    "    }\n",
    ")"
   ]
  },
  {
   "cell_type": "code",
   "execution_count": null,
   "metadata": {},
   "outputs": [],
   "source": []
  }
 ],
 "metadata": {
  "kernelspec": {
   "display_name": "zork",
   "language": "python",
   "name": "python3"
  },
  "language_info": {
   "codemirror_mode": {
    "name": "ipython",
    "version": 3
   },
   "file_extension": ".py",
   "mimetype": "text/x-python",
   "name": "python",
   "nbconvert_exporter": "python",
   "pygments_lexer": "ipython3",
   "version": "3.9.16"
  },
  "orig_nbformat": 4
 },
 "nbformat": 4,
 "nbformat_minor": 2
}
